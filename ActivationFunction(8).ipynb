{
 "cells": [
  {
   "cell_type": "code",
   "execution_count": null,
   "id": "e357adad-0046-4372-86db-404c3b2b4711",
   "metadata": {},
   "outputs": [],
   "source": [
    "#Sigmoid"
   ]
  },
  {
   "cell_type": "code",
   "execution_count": 1,
   "id": "89bf8370-eb85-4347-b3a4-34a7608f587d",
   "metadata": {},
   "outputs": [],
   "source": [
    "import math\n",
    "\n",
    "def sigmoid(x):\n",
    "  return 1 / (1 + math.exp(-x))"
   ]
  },
  {
   "cell_type": "code",
   "execution_count": 2,
   "id": "b05ff0c7-f83b-4883-b1f7-5ec88db5efb8",
   "metadata": {},
   "outputs": [
    {
     "data": {
      "text/plain": [
       "1.0"
      ]
     },
     "execution_count": 2,
     "metadata": {},
     "output_type": "execute_result"
    }
   ],
   "source": [
    "sigmoid(100)\n"
   ]
  },
  {
   "cell_type": "code",
   "execution_count": 3,
   "id": "3d3b21a2-c271-4591-81e7-87e940c84ef3",
   "metadata": {},
   "outputs": [
    {
     "data": {
      "text/plain": [
       "0.7310585786300049"
      ]
     },
     "execution_count": 3,
     "metadata": {},
     "output_type": "execute_result"
    }
   ],
   "source": [
    "sigmoid(1)\n"
   ]
  },
  {
   "cell_type": "code",
   "execution_count": 4,
   "id": "202972b3-3fa5-469d-b422-a1dfac36a544",
   "metadata": {},
   "outputs": [
    {
     "data": {
      "text/plain": [
       "4.780892883885469e-25"
      ]
     },
     "execution_count": 4,
     "metadata": {},
     "output_type": "execute_result"
    }
   ],
   "source": [
    "sigmoid(-56)\n"
   ]
  },
  {
   "cell_type": "code",
   "execution_count": 5,
   "id": "e6b116ba-7b9f-4496-8640-2f615fc7f230",
   "metadata": {},
   "outputs": [
    {
     "data": {
      "text/plain": [
       "0.6224593312018546"
      ]
     },
     "execution_count": 5,
     "metadata": {},
     "output_type": "execute_result"
    }
   ],
   "source": [
    "sigmoid(0.5)\n"
   ]
  },
  {
   "cell_type": "code",
   "execution_count": 6,
   "id": "f1b9044c-f7e4-4aba-97db-5ce732f6cb5b",
   "metadata": {},
   "outputs": [],
   "source": [
    "#tanh"
   ]
  },
  {
   "cell_type": "code",
   "execution_count": 7,
   "id": "8dbb060a-11c1-4318-8d04-df26349b8667",
   "metadata": {},
   "outputs": [],
   "source": [
    "def tanh(x):\n",
    "  return (math.exp(x) - math.exp(-x)) / (math.exp(x) + math.exp(-x))"
   ]
  },
  {
   "cell_type": "code",
   "execution_count": 8,
   "id": "66a51656-7804-47c5-8286-5b830b4e196c",
   "metadata": {},
   "outputs": [
    {
     "data": {
      "text/plain": [
       "-1.0"
      ]
     },
     "execution_count": 8,
     "metadata": {},
     "output_type": "execute_result"
    }
   ],
   "source": [
    "tanh(-56)\n"
   ]
  },
  {
   "cell_type": "code",
   "execution_count": 9,
   "id": "52c062db-91bd-4c4c-8be9-4c22856fa458",
   "metadata": {},
   "outputs": [
    {
     "data": {
      "text/plain": [
       "1.0"
      ]
     },
     "execution_count": 9,
     "metadata": {},
     "output_type": "execute_result"
    }
   ],
   "source": [
    "tanh(50)\n"
   ]
  },
  {
   "cell_type": "code",
   "execution_count": 10,
   "id": "349d04a6-b1e8-4c2a-aaa0-552a57dbabe1",
   "metadata": {},
   "outputs": [
    {
     "data": {
      "text/plain": [
       "0.7615941559557649"
      ]
     },
     "execution_count": 10,
     "metadata": {},
     "output_type": "execute_result"
    }
   ],
   "source": [
    "tanh(1)\n"
   ]
  },
  {
   "cell_type": "code",
   "execution_count": 11,
   "id": "967768cd-31f0-4519-8d50-7c73994afa90",
   "metadata": {},
   "outputs": [],
   "source": [
    "#ReLU"
   ]
  },
  {
   "cell_type": "code",
   "execution_count": 12,
   "id": "2f13ac3e-d10e-4eac-a2f5-250dc39a5115",
   "metadata": {},
   "outputs": [],
   "source": [
    "def relu(x):\n",
    "    return max(0,x)"
   ]
  },
  {
   "cell_type": "code",
   "execution_count": 13,
   "id": "b9c628e8-c47b-4d49-bd3e-ae3bcabed73b",
   "metadata": {},
   "outputs": [
    {
     "data": {
      "text/plain": [
       "0"
      ]
     },
     "execution_count": 13,
     "metadata": {},
     "output_type": "execute_result"
    }
   ],
   "source": [
    "relu(-100)\n"
   ]
  },
  {
   "cell_type": "code",
   "execution_count": 14,
   "id": "30749c13-b393-44a0-950d-4eea564a4c31",
   "metadata": {},
   "outputs": [
    {
     "data": {
      "text/plain": [
       "8"
      ]
     },
     "execution_count": 14,
     "metadata": {},
     "output_type": "execute_result"
    }
   ],
   "source": [
    "relu(8)\n"
   ]
  },
  {
   "cell_type": "code",
   "execution_count": 15,
   "id": "881da66a-2691-4b8c-b1f9-498126da86b3",
   "metadata": {},
   "outputs": [],
   "source": [
    "#Leaky ReLU"
   ]
  },
  {
   "cell_type": "code",
   "execution_count": 16,
   "id": "e980dbc8-373a-44a1-9218-c09369d27040",
   "metadata": {},
   "outputs": [],
   "source": [
    "def leaky_relu(x):\n",
    "    return max(0.1*x,x)"
   ]
  },
  {
   "cell_type": "code",
   "execution_count": 17,
   "id": "44e1a98b-80e1-44fc-8300-bb35446e8074",
   "metadata": {},
   "outputs": [
    {
     "data": {
      "text/plain": [
       "-10.0"
      ]
     },
     "execution_count": 17,
     "metadata": {},
     "output_type": "execute_result"
    }
   ],
   "source": [
    "leaky_relu(-100)\n"
   ]
  },
  {
   "cell_type": "code",
   "execution_count": 18,
   "id": "8ec0df01-0a8d-42df-a468-cbf16571918e",
   "metadata": {},
   "outputs": [
    {
     "data": {
      "text/plain": [
       "8"
      ]
     },
     "execution_count": 18,
     "metadata": {},
     "output_type": "execute_result"
    }
   ],
   "source": [
    "leaky_relu(8)\n"
   ]
  },
  {
   "cell_type": "code",
   "execution_count": null,
   "id": "57c1a1bb-f7ec-48c3-917b-260e162b88a5",
   "metadata": {},
   "outputs": [],
   "source": []
  }
 ],
 "metadata": {
  "kernelspec": {
   "display_name": "Python 3 (ipykernel)",
   "language": "python",
   "name": "python3"
  },
  "language_info": {
   "codemirror_mode": {
    "name": "ipython",
    "version": 3
   },
   "file_extension": ".py",
   "mimetype": "text/x-python",
   "name": "python",
   "nbconvert_exporter": "python",
   "pygments_lexer": "ipython3",
   "version": "3.12.7"
  }
 },
 "nbformat": 4,
 "nbformat_minor": 5
}
