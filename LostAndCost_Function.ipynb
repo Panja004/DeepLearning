{
 "cells": [
  {
   "cell_type": "code",
   "execution_count": 1,
   "id": "6a4cc812-9f6f-4824-a73c-9819292106a4",
   "metadata": {},
   "outputs": [],
   "source": [
    "import numpy as np\n"
   ]
  },
  {
   "cell_type": "code",
   "execution_count": 2,
   "id": "37b33ac6-511b-48cd-8d00-050756b94dc2",
   "metadata": {},
   "outputs": [],
   "source": [
    "y_predicted = np.array([1,1,0,0,1])\n",
    "y_true = np.array([0.30,0.7,1,0,0.5])"
   ]
  },
  {
   "cell_type": "markdown",
   "id": "742bfead-4745-4e9f-aefe-f9fce168fb54",
   "metadata": {},
   "source": [
    "<h2 style=\"color:purple\">Implement Mean Absolute Error\n",
    "</h2>"
   ]
  },
  {
   "cell_type": "code",
   "execution_count": 3,
   "id": "3f969060-49df-4757-ad54-c6d36d498311",
   "metadata": {},
   "outputs": [],
   "source": [
    "def mae(y_predicted, y_true):\n",
    "    total_error = 0\n",
    "    for yp, yt in zip(y_predicted, y_true):\n",
    "        total_error += abs(yp - yt)\n",
    "    print(\"Total error is:\",total_error)\n",
    "    mae = total_error/len(y_predicted)\n",
    "    print(\"Mean absolute error is:\",mae)\n",
    "    return mae"
   ]
  },
  {
   "cell_type": "code",
   "execution_count": 4,
   "id": "8cde5096-03d1-467c-9d8f-6d68dd38572b",
   "metadata": {},
   "outputs": [
    {
     "name": "stdout",
     "output_type": "stream",
     "text": [
      "Total error is: 2.5\n",
      "Mean absolute error is: 0.5\n"
     ]
    },
    {
     "data": {
      "text/plain": [
       "0.5"
      ]
     },
     "execution_count": 4,
     "metadata": {},
     "output_type": "execute_result"
    }
   ],
   "source": [
    "mae(y_predicted, y_true)\n"
   ]
  },
  {
   "cell_type": "markdown",
   "id": "855bfb86-fa80-47dc-8fe7-69840bd86477",
   "metadata": {},
   "source": [
    "<h4 style=\"color:purple\">Implement same thing using numpy in much easier way</h4>"
   ]
  },
  {
   "cell_type": "code",
   "execution_count": 9,
   "id": "ee96fd1b-c1f8-4050-b2c2-da0725a34b3f",
   "metadata": {},
   "outputs": [
    {
     "data": {
      "text/plain": [
       "array([0.7, 0.3, 1. , 0. , 0.5])"
      ]
     },
     "execution_count": 9,
     "metadata": {},
     "output_type": "execute_result"
    }
   ],
   "source": [
    "np.abs(y_predicted-y_true)\n"
   ]
  },
  {
   "cell_type": "code",
   "execution_count": 10,
   "id": "7399392a-60cf-4237-a443-df65099b426c",
   "metadata": {},
   "outputs": [
    {
     "data": {
      "text/plain": [
       "0.5"
      ]
     },
     "execution_count": 10,
     "metadata": {},
     "output_type": "execute_result"
    }
   ],
   "source": [
    "np.mean(np.abs(y_predicted-y_true))\n"
   ]
  },
  {
   "cell_type": "code",
   "execution_count": 11,
   "id": "5003bcaf-fab2-4a01-892e-886493636eda",
   "metadata": {},
   "outputs": [],
   "source": [
    "def mae_np(y_predicted, y_true):\n",
    "    return np.mean(np.abs(y_predicted-y_true))\n"
   ]
  },
  {
   "cell_type": "code",
   "execution_count": 12,
   "id": "0a033248-62fe-4609-a959-92fa53992fce",
   "metadata": {},
   "outputs": [
    {
     "data": {
      "text/plain": [
       "0.5"
      ]
     },
     "execution_count": 12,
     "metadata": {},
     "output_type": "execute_result"
    }
   ],
   "source": [
    "mae_np(y_predicted, y_true)\n"
   ]
  },
  {
   "cell_type": "markdown",
   "id": "59315492-d102-4856-8431-2fb9c1e3c86a",
   "metadata": {},
   "source": [
    "<h2 style=\"color:purple\">Implement Log Loss or Binary Cross Entropy\n",
    "</h2>"
   ]
  },
  {
   "cell_type": "code",
   "execution_count": 13,
   "id": "0ecb0921-8e7a-4574-ba8a-26d81a4fc024",
   "metadata": {},
   "outputs": [
    {
     "name": "stderr",
     "output_type": "stream",
     "text": [
      "C:\\Users\\Dr P L Bera\\AppData\\Local\\Temp\\ipykernel_9448\\348854998.py:1: RuntimeWarning: divide by zero encountered in log\n",
      "  np.log([0])\n"
     ]
    },
    {
     "data": {
      "text/plain": [
       "array([-inf])"
      ]
     },
     "execution_count": 13,
     "metadata": {},
     "output_type": "execute_result"
    }
   ],
   "source": [
    "np.log([0])\n"
   ]
  },
  {
   "cell_type": "code",
   "execution_count": 14,
   "id": "1bb1bc8e-dee5-4a72-823c-2071b97fd663",
   "metadata": {},
   "outputs": [],
   "source": [
    "epsilon = 1e-15\n"
   ]
  },
  {
   "cell_type": "code",
   "execution_count": 15,
   "id": "9f1fd12a-4f36-4400-96bf-923bf94944d9",
   "metadata": {},
   "outputs": [
    {
     "data": {
      "text/plain": [
       "array([-34.53877639])"
      ]
     },
     "execution_count": 15,
     "metadata": {},
     "output_type": "execute_result"
    }
   ],
   "source": [
    "np.log([1e-15])\n"
   ]
  },
  {
   "cell_type": "code",
   "execution_count": 16,
   "id": "a2a9ed1b-6057-4ce6-94a3-569ace4189bd",
   "metadata": {},
   "outputs": [
    {
     "data": {
      "text/plain": [
       "array([1, 1, 0, 0, 1])"
      ]
     },
     "execution_count": 16,
     "metadata": {},
     "output_type": "execute_result"
    }
   ],
   "source": [
    "y_predicted\n"
   ]
  },
  {
   "cell_type": "code",
   "execution_count": 17,
   "id": "58e701ee-f976-4d6a-8d81-5166f1e83e1f",
   "metadata": {},
   "outputs": [
    {
     "data": {
      "text/plain": [
       "[1, 1, 1e-15, 1e-15, 1]"
      ]
     },
     "execution_count": 17,
     "metadata": {},
     "output_type": "execute_result"
    }
   ],
   "source": [
    "y_predicted_new = [max(i,epsilon) for i in y_predicted]\n",
    "y_predicted_new"
   ]
  },
  {
   "cell_type": "code",
   "execution_count": 18,
   "id": "10aebf0d-7904-440e-b3a8-821718b3990e",
   "metadata": {},
   "outputs": [
    {
     "data": {
      "text/plain": [
       "0.999999999999999"
      ]
     },
     "execution_count": 18,
     "metadata": {},
     "output_type": "execute_result"
    }
   ],
   "source": [
    "1-epsilon\n"
   ]
  },
  {
   "cell_type": "code",
   "execution_count": 19,
   "id": "0364c29a-fb0f-4ea3-8580-528ab2c2a674",
   "metadata": {},
   "outputs": [
    {
     "data": {
      "text/plain": [
       "[0.999999999999999, 0.999999999999999, 1e-15, 1e-15, 0.999999999999999]"
      ]
     },
     "execution_count": 19,
     "metadata": {},
     "output_type": "execute_result"
    }
   ],
   "source": [
    "y_predicted_new = [min(i,1-epsilon) for i in y_predicted_new]\n",
    "y_predicted_new\n"
   ]
  },
  {
   "cell_type": "code",
   "execution_count": 20,
   "id": "7b12acd0-cb36-4de7-90ce-7f12d7a25c41",
   "metadata": {},
   "outputs": [],
   "source": [
    "y_predicted_new = np.array(y_predicted_new)\n"
   ]
  },
  {
   "cell_type": "code",
   "execution_count": 21,
   "id": "8faac9bd-5083-48f7-9f96-b1ccf14d55f2",
   "metadata": {},
   "outputs": [
    {
     "data": {
      "text/plain": [
       "array([-9.99200722e-16, -9.99200722e-16, -3.45387764e+01, -3.45387764e+01,\n",
       "       -9.99200722e-16])"
      ]
     },
     "execution_count": 21,
     "metadata": {},
     "output_type": "execute_result"
    }
   ],
   "source": [
    "np.log(y_predicted_new)"
   ]
  },
  {
   "cell_type": "code",
   "execution_count": 22,
   "id": "5650c23c-0239-4f10-a2c4-a713e3f76165",
   "metadata": {},
   "outputs": [
    {
     "data": {
      "text/plain": [
       "17.2696280766844"
      ]
     },
     "execution_count": 22,
     "metadata": {},
     "output_type": "execute_result"
    }
   ],
   "source": [
    "-np.mean(y_true*np.log(y_predicted_new)+(1-y_true)*np.log(1-y_predicted_new))\n"
   ]
  },
  {
   "cell_type": "code",
   "execution_count": 23,
   "id": "76b0cc2a-aac8-41af-a865-290287d36ebc",
   "metadata": {},
   "outputs": [],
   "source": [
    "def log_loss(y_true, y_predicted):\n",
    "    y_predicted_new = [max(i,epsilon) for i in y_predicted]\n",
    "    y_predicted_new = [min(i,1-epsilon) for i in y_predicted_new]\n",
    "    y_predicted_new = np.array(y_predicted_new)\n",
    "    return -np.mean(y_true*np.log(y_predicted_new)+(1-y_true)*np.log(1-y_predicted_new))"
   ]
  },
  {
   "cell_type": "code",
   "execution_count": 24,
   "id": "3aebf0ff-5fc0-4aff-a57e-5b5f8a4e6f5a",
   "metadata": {},
   "outputs": [
    {
     "data": {
      "text/plain": [
       "17.2696280766844"
      ]
     },
     "execution_count": 24,
     "metadata": {},
     "output_type": "execute_result"
    }
   ],
   "source": [
    "log_loss(y_true, y_predicted)\n"
   ]
  },
  {
   "cell_type": "markdown",
   "id": "b0c75b54-fd81-416c-a217-e054b11e7f13",
   "metadata": {},
   "source": [
    "<h2 style=\"color:purple\">Implement Mean Squared Error\n",
    "</h2>"
   ]
  },
  {
   "cell_type": "code",
   "execution_count": 25,
   "id": "e55636b3-e76b-4434-a440-49dee563d486",
   "metadata": {},
   "outputs": [],
   "source": [
    "import numpy as np\n",
    "\n",
    "y_predicted = np.array([1,1,0,0,1])\n",
    "y_true = np.array([0.30,0.7,1,0,0.5])\n"
   ]
  },
  {
   "cell_type": "code",
   "execution_count": 26,
   "id": "dc1d7593-f540-490c-af30-f54ec2bb3a0f",
   "metadata": {},
   "outputs": [],
   "source": [
    "def mse(y_true, y_predicted):\n",
    "    total_error = 0\n",
    "    for yt, yp in zip(y_true, y_predicted):\n",
    "        total_error += (yt-yp)**2\n",
    "    print(\"Total Squared Error:\",total_error)\n",
    "    mse = total_error/len(y_true)\n",
    "    print(\"Mean Squared Error:\",mse)\n",
    "    return mse"
   ]
  },
  {
   "cell_type": "code",
   "execution_count": 27,
   "id": "dd763703-49cb-4113-8f2d-3c38cfb84017",
   "metadata": {},
   "outputs": [
    {
     "name": "stdout",
     "output_type": "stream",
     "text": [
      "Total Squared Error: 1.83\n",
      "Mean Squared Error: 0.366\n"
     ]
    },
    {
     "data": {
      "text/plain": [
       "0.366"
      ]
     },
     "execution_count": 27,
     "metadata": {},
     "output_type": "execute_result"
    }
   ],
   "source": [
    "mse(y_true, y_predicted)\n"
   ]
  },
  {
   "cell_type": "markdown",
   "id": "9dc5ce43-85b9-4033-807b-b9c4555ef23e",
   "metadata": {},
   "source": [
    "<h4 style=\"color:purple\">By using numpy</h4>"
   ]
  },
  {
   "cell_type": "code",
   "execution_count": 32,
   "id": "edab1245-6f2b-4693-9fa0-1a53d60f9d59",
   "metadata": {},
   "outputs": [
    {
     "data": {
      "text/plain": [
       "0.366"
      ]
     },
     "execution_count": 32,
     "metadata": {},
     "output_type": "execute_result"
    }
   ],
   "source": [
    "np.mean(np.square(y_true-y_predicted))\n"
   ]
  },
  {
   "cell_type": "code",
   "execution_count": null,
   "id": "554715d7-16f0-476d-8230-48040731f40e",
   "metadata": {},
   "outputs": [],
   "source": []
  }
 ],
 "metadata": {
  "kernelspec": {
   "display_name": "Python 3 (ipykernel)",
   "language": "python",
   "name": "python3"
  },
  "language_info": {
   "codemirror_mode": {
    "name": "ipython",
    "version": 3
   },
   "file_extension": ".py",
   "mimetype": "text/x-python",
   "name": "python",
   "nbconvert_exporter": "python",
   "pygments_lexer": "ipython3",
   "version": "3.12.7"
  }
 },
 "nbformat": 4,
 "nbformat_minor": 5
}
