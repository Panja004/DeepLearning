{
 "cells": [
  {
   "cell_type": "code",
   "execution_count": 1,
   "id": "c77e9229-34ff-437a-8db3-6191775264ee",
   "metadata": {},
   "outputs": [],
   "source": [
    "import numpy as np\n"
   ]
  },
  {
   "cell_type": "code",
   "execution_count": 2,
   "id": "68859ab0-2ab3-4b6a-a73a-ecf9ad2e0c7f",
   "metadata": {},
   "outputs": [],
   "source": [
    "#Calculate profit/loss from revenue and expenses\n"
   ]
  },
  {
   "cell_type": "code",
   "execution_count": 4,
   "id": "4e2ae762-48fc-4aab-aa5f-21adc927a0b7",
   "metadata": {},
   "outputs": [],
   "source": [
    "revenue = np.array([[180,200,220],[24,36,40],[12,18,20]])\n",
    "expenses = np.array([[80,90,100],[10,16,20],[8,10,10]])"
   ]
  },
  {
   "cell_type": "code",
   "execution_count": 5,
   "id": "d6a461e3-b3d2-4796-a765-64532a785156",
   "metadata": {},
   "outputs": [
    {
     "data": {
      "text/plain": [
       "array([[100, 110, 120],\n",
       "       [ 14,  20,  20],\n",
       "       [  4,   8,  10]])"
      ]
     },
     "execution_count": 5,
     "metadata": {},
     "output_type": "execute_result"
    }
   ],
   "source": [
    "profit = revenue - expenses\n",
    "profit"
   ]
  },
  {
   "cell_type": "code",
   "execution_count": 6,
   "id": "455ae0b1-fafd-4eae-a3a0-05b24663c5fe",
   "metadata": {},
   "outputs": [],
   "source": [
    "#Calculate total sales from units and price per unit using matrix multiplication\n"
   ]
  },
  {
   "cell_type": "code",
   "execution_count": 7,
   "id": "49b43e60-ce7c-4672-ace8-10fdaf0ce6be",
   "metadata": {},
   "outputs": [],
   "source": [
    "price_per_unit = np.array([1000,400,1200])\n",
    "units = np.array([[30,40,50],[5,10,15],[2,5,7]])"
   ]
  },
  {
   "cell_type": "code",
   "execution_count": null,
   "id": "90f9cd81-6b9e-4a7c-90fd-dbcc73c2ccb9",
   "metadata": {},
   "outputs": [],
   "source": []
  },
  {
   "cell_type": "code",
   "execution_count": 8,
   "id": "ee54e234-9ae9-4475-915b-d781b71e7f99",
   "metadata": {},
   "outputs": [
    {
     "data": {
      "text/plain": [
       "array([[30000, 16000, 60000],\n",
       "       [ 5000,  4000, 18000],\n",
       "       [ 2000,  2000,  8400]])"
      ]
     },
     "execution_count": 8,
     "metadata": {},
     "output_type": "execute_result"
    }
   ],
   "source": [
    "price_per_unit*units\n"
   ]
  },
  {
   "cell_type": "code",
   "execution_count": 9,
   "id": "5cdf9013-56c4-4427-8ac5-bbf1e7933e84",
   "metadata": {},
   "outputs": [
    {
     "data": {
      "text/plain": [
       "array([34400, 50000, 64400])"
      ]
     },
     "execution_count": 9,
     "metadata": {},
     "output_type": "execute_result"
    }
   ],
   "source": [
    "np.dot(price_per_unit,units)\n"
   ]
  },
  {
   "cell_type": "code",
   "execution_count": null,
   "id": "9afa052d-b869-494f-9f48-56e5994756ed",
   "metadata": {},
   "outputs": [],
   "source": []
  }
 ],
 "metadata": {
  "kernelspec": {
   "display_name": "Python 3 (ipykernel)",
   "language": "python",
   "name": "python3"
  },
  "language_info": {
   "codemirror_mode": {
    "name": "ipython",
    "version": 3
   },
   "file_extension": ".py",
   "mimetype": "text/x-python",
   "name": "python",
   "nbconvert_exporter": "python",
   "pygments_lexer": "ipython3",
   "version": "3.12.7"
  }
 },
 "nbformat": 4,
 "nbformat_minor": 5
}
